{
 "cells": [
  {
   "cell_type": "code",
   "execution_count": 13,
   "metadata": {},
   "outputs": [
    {
     "name": "stdout",
     "output_type": "stream",
     "text": [
      "Ба́шня — инженерное сооружение, отличающееся значительным преобладанием высоты над стороной или диаметром основания. Башни могут быть отдельно стоящими или соединёнными с другим зданием или стеной. Ствол башни может быть сплошным (у каменных и железобетонных конструкций) или сквозным, а в сечении круглым, квадратным, многоугольным, встречаются также сечения других форм.\n"
     ]
    }
   ],
   "source": [
    "from requests import *\n",
    "from bs4 import BeautifulSoup\n",
    "\n",
    "url = 'https://ru.wikipedia.org/wiki/Башня'\n",
    "\n",
    "response = get(url)\n",
    "\n",
    "if response.status_code == 200:\n",
    "    soup = BeautifulSoup(response.text, 'html.parser')\n",
    "    a = [i for i in soup.text.split('\\n') if i!='']\n",
    "    for el in a:\n",
    "        if 'Ба́шня' in el:\n",
    "            print(el.replace('[1]', '').replace('[2]', '').replace('[3]', ''))\n",
    "\n",
    "\n",
    "\n",
    "else:\n",
    "    print(f\"Failed to retrieve the webpage. Status code: {response.status_code}\")"
   ]
  }
 ],
 "metadata": {
  "kernelspec": {
   "display_name": "Python 3",
   "language": "python",
   "name": "python3"
  },
  "language_info": {
   "codemirror_mode": {
    "name": "ipython",
    "version": 3
   },
   "file_extension": ".py",
   "mimetype": "text/x-python",
   "name": "python",
   "nbconvert_exporter": "python",
   "pygments_lexer": "ipython3",
   "version": "3.9.4"
  }
 },
 "nbformat": 4,
 "nbformat_minor": 2
}
